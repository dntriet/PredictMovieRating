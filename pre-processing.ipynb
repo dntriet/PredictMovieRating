{
 "cells": [
  {
   "cell_type": "code",
   "execution_count": 1,
   "id": "5a1f3939-6055-4185-b537-cd7fc577fe5c",
   "metadata": {},
   "outputs": [],
   "source": [
    "import pandas as pd\n",
    "\n",
    "# Đọc 3 file \n",
    "df_basics = pd.read_csv('title.basics.tsv', sep='\\t', low_memory=False)\n",
    "df_ratings = pd.read_csv('title.ratings.tsv', sep='\\t', low_memory=False)\n",
    "df_crew = pd.read_csv('title.crew.tsv', sep='\\t', low_memory=False)"
   ]
  },
  {
   "cell_type": "code",
   "execution_count": 2,
   "id": "1ad0b973-dc8b-4f46-82e7-9272e0aa66a5",
   "metadata": {},
   "outputs": [],
   "source": [
    "# THÊM THUỘC TÍNH CẦN THIẾT"
   ]
  },
  {
   "cell_type": "code",
   "execution_count": 3,
   "id": "43453262-13b5-4134-8832-8273213883cd",
   "metadata": {},
   "outputs": [],
   "source": [
    "# Tạo thêm thuộc tính primaryTitleLength bằng độ dài tên chính primaryTitle trong file title.basics.tsv --> thêm vào file title.basics\n",
    "# Tạo thêm thuộc tính numGenres là số lượng thể loại được tính toán từ thuộc tính Genres trong file title.basics.tsv --> thêm vào file title.basics\n",
    "# Tạo thêm thuộc tính writerCount là số lượng nhà văn được tính từ thuộc tính Writers trong file title.crew.tsv --> thêm vào file title.crew"
   ]
  },
  {
   "cell_type": "code",
   "execution_count": 4,
   "id": "d4784169-c215-4f10-8591-0dc269976560",
   "metadata": {},
   "outputs": [],
   "source": [
    "# Đảm bảo tất cả các giá trị trong cột 'primaryTitle' là chuỗi và xử lý giá trị thiếu\n",
    "df_basics['primaryTitle'] = df_basics['primaryTitle'].astype(str).fillna('')\n",
    "\n",
    "# Tạo cột mới 'titleLength' chứa độ dài của mỗi giá trị trong cột 'primaryTitle'\n",
    "df_basics['titleLength'] = df_basics['primaryTitle'].apply(lambda x: len(x))\n",
    "\n",
    "# Tạo cột mới 'numGenres' là số lượng thể loại từ 'genres'\n",
    "df_basics['numGenres'] = df_basics['genres'].apply(lambda x: len(x.split(',')) if pd.notnull(x) else 0)\n",
    "\n",
    "# Tạo thêm cột 'writerCount' là số lượng nhà văn từ cột 'writers'\n",
    "df_crew['writerCount'] = df_crew['writers'].apply(lambda x: len(x.split(',')) if pd.notnull(x) else 0)"
   ]
  },
  {
   "cell_type": "code",
   "execution_count": 5,
   "id": "120973fb-6848-4412-8a4a-a52454f03ce4",
   "metadata": {},
   "outputs": [],
   "source": [
    "# GỘP 3 FILE"
   ]
  },
  {
   "cell_type": "code",
   "execution_count": 6,
   "id": "1ff324a4-4d09-4d94-9bff-704c3879bdcf",
   "metadata": {},
   "outputs": [
    {
     "name": "stdout",
     "output_type": "stream",
     "text": [
      "(1426606, 16)\n"
     ]
    }
   ],
   "source": [
    "# Gộp 3 files thông qua thuộc tính 'tconst'\n",
    "\n",
    "# Tạo ra file mới 'merged_df'\n",
    "merged_df = df_basics.merge(df_ratings, on='tconst', how='inner')  # Inner join (keeps all rows)\n",
    "merged_df = merged_df.merge(df_crew, on='tconst', how='inner')  # Merge with crew data\n",
    "\n",
    "# Chuyển file thành định dạng csv\n",
    "merged_df.to_csv('merged_data.tsv', sep='\\t', index=False)  # Without index column\n",
    "\n",
    "# In ra thông số\n",
    "print(merged_df.shape)"
   ]
  },
  {
   "cell_type": "code",
   "execution_count": 7,
   "id": "5f7de7cf-bd84-4b72-b740-c0c838b9a74b",
   "metadata": {},
   "outputs": [],
   "source": [
    "# XỬ LÝ GIÁ TRỊ NULL"
   ]
  },
  {
   "cell_type": "code",
   "execution_count": 8,
   "id": "0b95ff70-cf99-46f0-ba23-fc814a22c69e",
   "metadata": {},
   "outputs": [
    {
     "name": "stdout",
     "output_type": "stream",
     "text": [
      "3\n"
     ]
    }
   ],
   "source": [
    "# Đếm số lượng dòng có ít nhất 1 giá trị null\n",
    "missing_row_count = merged_df.isnull().any(axis=1).sum()\n",
    "print(missing_row_count)"
   ]
  },
  {
   "cell_type": "code",
   "execution_count": 9,
   "id": "5b34a792-4df8-41a4-a887-c9bde7b57645",
   "metadata": {},
   "outputs": [
    {
     "name": "stdout",
     "output_type": "stream",
     "text": [
      "(1426603, 16)\n"
     ]
    }
   ],
   "source": [
    "# Xử lý giá trị NULL\n",
    "# gán merged_df vào 1 dataframe khác và sử dụng hàm dropna\n",
    "filtered_df = merged_df.dropna()\n",
    "\n",
    "# gán lại dataframe vào merged_df ban đầu \n",
    "merged_df = filtered_df\n",
    "\n",
    "# in ra số thông số merged_df\n",
    "print(merged_df.shape)"
   ]
  },
  {
   "cell_type": "code",
   "execution_count": 10,
   "id": "84adbe14-6bd7-4b6b-b1cf-b33b3c7d556a",
   "metadata": {},
   "outputs": [
    {
     "name": "stdout",
     "output_type": "stream",
     "text": [
      "filtered_df: \n",
      "(1406637, 16)\n"
     ]
    }
   ],
   "source": [
    "# Xử lý cột 'genres'\n",
    "# Tạo ra dataframe mới là filtered_df = merged_df\n",
    "\n",
    "# Xoá các hàng có cột genres chứa giá trị '\\N' \n",
    "filtered_df = merged_df[~merged_df['genres'].str.contains(\"\\\\\\\\N\")]  \n",
    "\n",
    "# in ra thông số filtered_df - thông số của dataframe sau khi xoá các phần tử NULL ở cột 'genres'\n",
    "print(\"filtered_df: \")\n",
    "print(filtered_df.shape)\n"
   ]
  },
  {
   "cell_type": "code",
   "execution_count": 11,
   "id": "8bc32c2e-4b55-4842-bd8c-ff3a919e028d",
   "metadata": {},
   "outputs": [
    {
     "name": "stdout",
     "output_type": "stream",
     "text": [
      "merged_df: \n",
      "(1406637, 16)\n"
     ]
    }
   ],
   "source": [
    "# Xử lý giá trị NULL với cột 'genres'\n",
    "# gán filtered_df lại cho merged_df\n",
    "merged_df = filtered_df\n",
    "\n",
    "# In ra thông số của merged_df\n",
    "print(\"merged_df: \")\n",
    "print(merged_df.shape)"
   ]
  },
  {
   "cell_type": "code",
   "execution_count": 12,
   "id": "b1873d89-21c1-4fe6-ba6a-f2be5e5ccf6b",
   "metadata": {},
   "outputs": [
    {
     "name": "stdout",
     "output_type": "stream",
     "text": [
      "filtered_df: \n",
      "(1003852, 16)\n"
     ]
    }
   ],
   "source": [
    "# Xử lý cột 'runtimeMinutes'\n",
    "# Xoá các hàng có cột runtimeMinutes chứa giá trị '\\N' \n",
    "filtered_df = merged_df[~merged_df['runtimeMinutes'].str.contains(\"\\\\\\\\N\")]  \n",
    "\n",
    "# in ra thông số filtered_df - thông số của dataframe sau khi xoá các phần tử NULL ở cột 'runtimeMinutes'\n",
    "print(\"filtered_df: \")\n",
    "print(filtered_df.shape)"
   ]
  },
  {
   "cell_type": "code",
   "execution_count": 13,
   "id": "a180e6c8-028d-43d4-bc5c-0fe22001906b",
   "metadata": {},
   "outputs": [
    {
     "name": "stdout",
     "output_type": "stream",
     "text": [
      "merged_df: \n",
      "(1003852, 16)\n"
     ]
    }
   ],
   "source": [
    "# Xử lý giá trị NULL với cột 'runtimeMinutes'\n",
    "\n",
    "# gán filtered_df lại cho merged_df\n",
    "merged_df = filtered_df\n",
    "\n",
    "# In ra thông số của merged_df\n",
    "print(\"merged_df: \")\n",
    "print(merged_df.shape)"
   ]
  },
  {
   "cell_type": "code",
   "execution_count": 14,
   "id": "c763c99e-227c-4e5b-b41a-15264ebdf08e",
   "metadata": {},
   "outputs": [],
   "source": [
    "# XỬ LÝ PHẦN TỬ OUTLIERS"
   ]
  },
  {
   "cell_type": "code",
   "execution_count": 15,
   "id": "e67334d0-caa4-4f89-8ef7-776ddc303cce",
   "metadata": {},
   "outputs": [],
   "source": [
    "import pandas as pd\n",
    "import numpy as np\n",
    "from scipy import stats\n",
    "\n",
    "# Hàm tìm outliers sử dụng z-scores\n",
    "def identify_outliers_zscore(df, threshold=3):\n",
    "    # chọn ra các cột có kiểu dữ liệu là số\n",
    "  numerical_cols = df.select_dtypes(include=np.number) \n",
    "    #khởi tạo 1 dataframe rỗng\n",
    "  outliers_df = pd.DataFrame() \n",
    "    # duyệt qua từng cột\n",
    "  for col in numerical_cols:\n",
    "      # tính absolute z-scores\n",
    "    z_scores = np.abs(stats.zscore(df[col])) \n",
    "      # Lấy dòng với outlier trong từng cột\n",
    "    outlier_rows = df[z_scores > threshold].index  \n",
    "      # Thêm outlier vào dataframe\n",
    "    outliers_df = pd.concat([outliers_df, df.loc[outlier_rows]], ignore_index=True)  \n",
    "  return outliers_df.drop_duplicates()  \n",
    "    # Xoá trùng (duplicate) nếu tồn tại\n"
   ]
  },
  {
   "cell_type": "code",
   "execution_count": 16,
   "id": "0f8f748c-aeb8-4395-9b9c-5836d48d038a",
   "metadata": {},
   "outputs": [
    {
     "name": "stdout",
     "output_type": "stream",
     "text": [
      "          tconst  titleType  \\\n",
      "0      tt0000075      short   \n",
      "1      tt0000166      short   \n",
      "2      tt0000168      short   \n",
      "3      tt0000349      short   \n",
      "4      tt0000350      short   \n",
      "...          ...        ...   \n",
      "41289  tt9878574  tvEpisode   \n",
      "41290  tt9878576  tvEpisode   \n",
      "41291  tt9881616      movie   \n",
      "41292  tt9897038   tvSeries   \n",
      "41293  tt9900092   tvSeries   \n",
      "\n",
      "                                            primaryTitle  \\\n",
      "0      The Conjuring of a Woman at the House of Rober...   \n",
      "1      Salida de los trabajadores de la fábrica Españ...   \n",
      "2      Salida del público de la iglesia parroquial de...   \n",
      "3      What Came Out of the Cheese; or, The Lilliputi...   \n",
      "4      The Countryman's First Sight of the Animated P...   \n",
      "...                                                  ...   \n",
      "41289                                       Karamo Brown   \n",
      "41290                                        Jacob Tobia   \n",
      "41291                                    La filla d'algú   \n",
      "41292                                    Chip and Potato   \n",
      "41293                             Motherland: Fort Salem   \n",
      "\n",
      "                                           originalTitle isAdult startYear  \\\n",
      "0         Escamotage d'une dame au théâtre Robert Houdin       0      1896   \n",
      "1      Salida de los trabajadores de la fábrica Españ...       0      1897   \n",
      "2      Salida del público de la iglesia parroquial de...       0      1897   \n",
      "3      The Cheese Mites, or Lilliputians in a London ...       0      1901   \n",
      "4                   The Countryman and the Cinematograph       0      1901   \n",
      "...                                                  ...     ...       ...   \n",
      "41289                                       Karamo Brown       0      2019   \n",
      "41290                                        Jacob Tobia       0      2019   \n",
      "41291                                    La filla d'algú       0      2019   \n",
      "41292                                    Chip and Potato       0      2018   \n",
      "41293                             Motherland: Fort Salem       0      2020   \n",
      "\n",
      "      endYear runtimeMinutes                      genres  titleLength  \\\n",
      "0          \\N              1                Horror,Short           54   \n",
      "1          \\N              1           Documentary,Short           58   \n",
      "2          \\N              1           Documentary,Short           66   \n",
      "3          \\N              1                Comedy,Short           74   \n",
      "4          \\N              1                Comedy,Short           53   \n",
      "...       ...            ...                         ...          ...   \n",
      "41289      \\N             29       Comedy,News,Talk-Show           12   \n",
      "41290      \\N             28       Comedy,News,Talk-Show           11   \n",
      "41291      \\N             71                       Drama           15   \n",
      "41292      \\N             23  Adventure,Animation,Comedy           15   \n",
      "41293    2022             42        Drama,Fantasy,Sci-Fi           22   \n",
      "\n",
      "       numGenres  averageRating  numVotes  \\\n",
      "0              2            6.3      2062   \n",
      "1              2            3.6        19   \n",
      "2              2            2.9        18   \n",
      "3              2            5.5       145   \n",
      "4              2            5.7       784   \n",
      "...          ...            ...       ...   \n",
      "41289          3            5.3        25   \n",
      "41290          3            5.2        28   \n",
      "41291          1            6.6        65   \n",
      "41292          3            6.2       227   \n",
      "41293          3            7.3     18809   \n",
      "\n",
      "                                               directors  \\\n",
      "0                                              nm0617588   \n",
      "1                                              nm0005717   \n",
      "2                                              nm0005717   \n",
      "3                                              nm0095816   \n",
      "4                                              nm0666972   \n",
      "...                                                  ...   \n",
      "41289                                nm2142199,nm2774033   \n",
      "41290                                          nm2142199   \n",
      "41291  nm5487558,nm2327950,nm9985563,nm10526485,nm791...   \n",
      "41292  nm2110365,nm2625612,nm4813436,nm0748843,nm1183...   \n",
      "41293  nm0850102,nm0463320,nm0011876,nm0292468,nm3345...   \n",
      "\n",
      "                                                 writers  writerCount  \n",
      "0                                                     \\N            1  \n",
      "1                                                     \\N            1  \n",
      "2                                                     \\N            1  \n",
      "3                                                     \\N            1  \n",
      "4                                                     \\N            1  \n",
      "...                                                  ...          ...  \n",
      "41289  nm6194006,nm2174114,nm4012444,nm0810431,nm0935...           21  \n",
      "41290  nm6194006,nm2174114,nm4012444,nm0810431,nm0935...           21  \n",
      "41291  nm5487558,nm5402059,nm10526487,nm8845976,nm998...           17  \n",
      "41292  nm4674605,nm2702030,nm1354128,nm1393414,nm1371...           36  \n",
      "41293  nm2436744,nm6632654,nm3975663,nm7640985,nm4116...           16  \n",
      "\n",
      "[40590 rows x 16 columns]\n"
     ]
    }
   ],
   "source": [
    "# In ra các phần tử bị outlier sau khi qua hàm\n",
    "outlier_row_df = identify_outliers_zscore(merged_df.copy(), 3)\n",
    "print(outlier_row_df)"
   ]
  },
  {
   "cell_type": "code",
   "execution_count": 17,
   "id": "1d106d03-17ee-42fe-9246-f8f7f0a19678",
   "metadata": {},
   "outputs": [
    {
     "name": "stdout",
     "output_type": "stream",
     "text": [
      "(965324, 16)\n"
     ]
    }
   ],
   "source": [
    "# Tạo fitered_df = merged_df và xoá những hàng có chứa ít nhất 1 phần tử bị outlier\n",
    "filtered_df = merged_df[~merged_df.index.isin(outlier_row_df.index)]  # Exclude rows in outlier_indices\n",
    "\n",
    "# Gán filtered_df vào lại cho merged_df\n",
    "merged_df = filtered_df\n",
    "\n",
    "# In ra thông số của merged_df\n",
    "print(merged_df.shape)\n"
   ]
  },
  {
   "cell_type": "code",
   "execution_count": 18,
   "id": "0af301ef-f375-422e-99b9-1ff75a20c09b",
   "metadata": {},
   "outputs": [],
   "source": [
    "# XỬ LÝ PHẦN TỬ BỊ NHIỄU THEO BUSINESS LOGIC"
   ]
  },
  {
   "cell_type": "code",
   "execution_count": 19,
   "id": "9dcf792e-d4fe-4947-b1e1-2a304aec2179",
   "metadata": {},
   "outputs": [
    {
     "name": "stdout",
     "output_type": "stream",
     "text": [
      "(905530, 16)\n"
     ]
    }
   ],
   "source": [
    "# Loại bỏ dữ liệu nhiễu sử dụng business logic\n",
    "# Thông thường, một bộ phim có trên 1000 lượt đánh giá sẽ được xem xét là đủ khách quan\n",
    "# Lọc ra cá phần tử có lượt đánh giá nhỏ hơn 1000\n",
    "filtered_df = merged_df[merged_df['numVotes'] < 1500]\n",
    "\n",
    "# Print the filtered DataFrame\n",
    "print(filtered_df.shape)\n"
   ]
  },
  {
   "cell_type": "code",
   "execution_count": 20,
   "id": "921d59a6-5cf9-4327-a061-7e6a57ceee25",
   "metadata": {},
   "outputs": [
    {
     "name": "stdout",
     "output_type": "stream",
     "text": [
      "merged_df: \n",
      "(79335, 16)\n"
     ]
    }
   ],
   "source": [
    "# Tiến hành lọc ra các phần tử có trên 1000 lượt đánh giá\n",
    "filtered_df = merged_df[merged_df['numVotes'] > 1000]\n",
    "\n",
    "# Gán filtered_df vào cho merged_df\n",
    "merged_df = filtered_df.copy()\n",
    "\n",
    "# In ra thông số của merged_df\n",
    "print(\"merged_df: \")\n",
    "print(merged_df.shape)"
   ]
  },
  {
   "cell_type": "code",
   "execution_count": 21,
   "id": "3569e5ab-8df1-47a4-866b-c67e7acbf2f5",
   "metadata": {},
   "outputs": [],
   "source": [
    "# XỬ LÝ CÁC PHẦN TỬ TRÙNG NHAU"
   ]
  },
  {
   "cell_type": "code",
   "execution_count": 22,
   "id": "1c4b22e7-95b1-487a-899f-6e14699aa412",
   "metadata": {},
   "outputs": [
    {
     "name": "stdout",
     "output_type": "stream",
     "text": [
      "            tconst  titleType        primaryTitle       originalTitle isAdult  \\\n",
      "22837    tt0040446      movie          Homecoming          Homecoming       0   \n",
      "23979    tt0041855      movie   The Secret Garden   The Secret Garden       0   \n",
      "24255    tt0042210      movie              Utopia             Atoll K       0   \n",
      "24399    tt0042367      movie  Cyrano de Bergerac  Cyrano de Bergerac       0   \n",
      "24404    tt0042372      movie              Dallas              Dallas       0   \n",
      "...            ...        ...                 ...                 ...     ...   \n",
      "1426183  tt9906260  tvEpisode                Hero                Hero       0   \n",
      "1426213  tt9907782      movie          The Cursed    Eight for Silver       0   \n",
      "1426243  tt9908860   tvSeries          Blown Away          Blown Away       0   \n",
      "1426261  tt9909484  tvEpisode       All About Eve       All About Eve       0   \n",
      "1426575  tt9916362      movie               Coven            Akelarre       0   \n",
      "\n",
      "        startYear endYear runtimeMinutes                      genres  \\\n",
      "22837        1948      \\N            113       Drama,Mystery,Romance   \n",
      "23979        1949      \\N             92                Drama,Family   \n",
      "24255        1950      \\N             82                      Comedy   \n",
      "24399        1950      \\N            113     Adventure,Drama,Romance   \n",
      "24404        1950      \\N             94                     Western   \n",
      "...           ...     ...            ...                         ...   \n",
      "1426183      2019      \\N             24  Action,Adventure,Animation   \n",
      "1426213      2021      \\N            111      Fantasy,Horror,Mystery   \n",
      "1426243      2019      \\N             23                  Reality-TV   \n",
      "1426261      2019      \\N             42      Action,Adventure,Drama   \n",
      "1426575      2020      \\N             92               Drama,History   \n",
      "\n",
      "         titleLength  numGenres  averageRating  numVotes  \\\n",
      "22837             10          3            6.8      1093   \n",
      "23979             17          2            7.5      3314   \n",
      "24255              6          1            5.5      2227   \n",
      "24399             18          3            7.4      4589   \n",
      "24404              6          1            6.2      1520   \n",
      "...              ...        ...            ...       ...   \n",
      "1426183            4          3            9.7    127555   \n",
      "1426213           10          3            6.2     16902   \n",
      "1426243           10          1            7.2      3973   \n",
      "1426261           13          3            7.6      1263   \n",
      "1426575            5          2            6.4      5809   \n",
      "\n",
      "                                       directors  \\\n",
      "22837                                  nm0503777   \n",
      "23979                                  nm0928208   \n",
      "24255    nm0423329,nm0077587,nm0332531,nm0924065   \n",
      "24399                                  nm0330456   \n",
      "24404                                  nm0374702   \n",
      "...                                          ...   \n",
      "1426183            nm2967345,nm2013928,nm1267452   \n",
      "1426213                                nm1193346   \n",
      "1426243                      nm2039645,nm2112409   \n",
      "1426261                                nm0004554   \n",
      "1426575                                nm1893148   \n",
      "\n",
      "                                                   writers  writerCount  \n",
      "22837                        nm0455549,nm0527331,nm0651585            3  \n",
      "23979                                  nm0034124,nm0122364            2  \n",
      "24255    nm0172559,nm0423329,nm0460029,nm0460130,nm0463...            8  \n",
      "24399                        nm0744562,nm0393613,nm0286025            3  \n",
      "24404                                            nm0878605            1  \n",
      "...                                                    ...          ...  \n",
      "1426183                      nm4697729,nm1639992,nm5003154            3  \n",
      "1426213                                          nm1193346            1  \n",
      "1426243  nm9910750,nm2378187,nm1867805,nm10567054,nm177...            8  \n",
      "1426261  nm0796950,nm0795975,nm0075528,nm0012100,nm1132...           12  \n",
      "1426575                                nm1893148,nm3471432            2  \n",
      "\n",
      "[16217 rows x 16 columns]\n"
     ]
    }
   ],
   "source": [
    "# Tìm các phần tử bị trùng nhau ở cột primaryTitle\n",
    "dup_row = merged_df[merged_df.duplicated(subset='primaryTitle', keep=False)]\n",
    "print(dup_row)"
   ]
  },
  {
   "cell_type": "code",
   "execution_count": 23,
   "id": "00ee4194-dc9c-4ed6-9c03-5ebd934aa343",
   "metadata": {},
   "outputs": [
    {
     "name": "stdout",
     "output_type": "stream",
     "text": [
      "(8558, 16)\n"
     ]
    }
   ],
   "source": [
    "# Tìm các phần tử bị trùng nhau ở cột primaryTitle hoặc cột originalTitle\n",
    "merged_df_duplicates = merged_df[merged_df.duplicated(subset=['primaryTitle', 'originalTitle'])]\n",
    "print(merged_df_duplicates.shape)"
   ]
  },
  {
   "cell_type": "code",
   "execution_count": 24,
   "id": "ddf5fa59-226e-450d-b0ce-b7ac864e4885",
   "metadata": {},
   "outputs": [
    {
     "name": "stdout",
     "output_type": "stream",
     "text": [
      "(70777, 16)\n"
     ]
    }
   ],
   "source": [
    "# Xử lý các phần tử trùng nhau ở 2 cột\n",
    "\n",
    "# Tạo merged_df_without_duplicates = merged_df sau khi xoá các phần tử và giữ lại phần tử đầu tiên\n",
    "merged_df_without_duplicates = merged_df.drop_duplicates(subset=['primaryTitle', 'originalTitle'], keep = 'first')\n",
    "\n",
    "# Gán merged_df_without_duplicates vào merged_df ban đầu\n",
    "merged_df = merged_df_without_duplicates\n",
    "\n",
    "# In ra thông số\n",
    "print(merged_df.shape)"
   ]
  },
  {
   "cell_type": "code",
   "execution_count": 25,
   "id": "031e3683",
   "metadata": {},
   "outputs": [],
   "source": [
    "## file cleadned_data.csv đã có sẵn, nếu chưa thì hãy chạy cell code ở dưới\n",
    "\n",
    "# Xuất dữ liệu DataFrame thành file CSV\n",
    "file_path = 'cleaned_data.csv'\n",
    "merged_df.to_csv(file_path, index=False)"
   ]
  }
 ],
 "metadata": {
  "kernelspec": {
   "display_name": "Python 3 (ipykernel)",
   "language": "python",
   "name": "python3"
  },
  "language_info": {
   "codemirror_mode": {
    "name": "ipython",
    "version": 3
   },
   "file_extension": ".py",
   "mimetype": "text/x-python",
   "name": "python",
   "nbconvert_exporter": "python",
   "pygments_lexer": "ipython3",
   "version": "3.11.9"
  }
 },
 "nbformat": 4,
 "nbformat_minor": 5
}
